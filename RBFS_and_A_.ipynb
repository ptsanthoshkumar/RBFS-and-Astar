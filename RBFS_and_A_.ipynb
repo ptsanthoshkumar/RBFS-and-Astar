{
  "nbformat": 4,
  "nbformat_minor": 0,
  "metadata": {
    "colab": {
      "provenance": []
    },
    "kernelspec": {
      "name": "python3",
      "display_name": "Python 3"
    },
    "language_info": {
      "name": "python"
    }
  },
  "cells": [
    {
      "cell_type": "markdown",
      "source": [
        "# PUZZLE"
      ],
      "metadata": {
        "id": "5v1zDa7wzaWh"
      }
    },
    {
      "cell_type": "code",
      "execution_count": 3,
      "metadata": {
        "id": "lpb3u35QySXU"
      },
      "outputs": [],
      "source": [
        "import warnings\n",
        "warnings.filterwarnings('ignore')\n",
        "class Puzzle:\n",
        "    goal_state=[1,2,3,8,0,4,7,6,5]\n",
        "    heuristic=None\n",
        "    evaluation_function=None\n",
        "    needs_hueristic=False\n",
        "    num_of_instances=0\n",
        "    def __init__(self,state,parent,action,path_cost,needs_hueristic=False):\n",
        "        self.parent=parent\n",
        "        self.state=state\n",
        "        self.action=action\n",
        "        if parent:\n",
        "            self.path_cost = parent.path_cost + path_cost\n",
        "        else:\n",
        "            self.path_cost = path_cost\n",
        "        if needs_hueristic:\n",
        "            self.needs_hueristic=True\n",
        "            self.generate_heuristic()\n",
        "            self.evaluation_function=self.heuristic+self.path_cost\n",
        "        Puzzle.num_of_instances+=1\n",
        "\n",
        "    def __str__(self):\n",
        "        return str(self.state[0:3])+'\\n'+str(self.state[3:6])+'\\n'+str(self.state[6:9])\n",
        "\n",
        "    def generate_heuristic(self):\n",
        "        self.heuristic=0\n",
        "        for num in range(1,9):\n",
        "            distance=abs(self.state.index(num) - self.goal_state.index(num))\n",
        "            i=int(distance/3)\n",
        "            j=int(distance%3)\n",
        "            self.heuristic=self.heuristic+i+j\n",
        "\n",
        "    def goal_test(self):\n",
        "        if self.state == self.goal_state:\n",
        "            return True\n",
        "        return False\n",
        "\n",
        "    @staticmethod\n",
        "    def find_legal_actions(i,j):\n",
        "        legal_action = ['U', 'D', 'L', 'R']\n",
        "        if i == 0:  # up is disable\n",
        "            legal_action.remove('U')\n",
        "        elif i == 2:  # down is disable\n",
        "            legal_action.remove('D')\n",
        "        if j == 0:\n",
        "            legal_action.remove('L')\n",
        "        elif j == 2:\n",
        "            legal_action.remove('R')\n",
        "        return legal_action\n",
        "\n",
        "    def generate_child(self):\n",
        "        children=[]\n",
        "        x = self.state.index(0)\n",
        "        i = int(x / 3)\n",
        "        j = int(x % 3)\n",
        "        legal_actions=self.find_legal_actions(i,j)\n",
        "\n",
        "        for action in legal_actions:\n",
        "            new_state = self.state.copy()\n",
        "            if action is 'U':\n",
        "                new_state[x], new_state[x-3] = new_state[x-3], new_state[x]\n",
        "            elif action is 'D':\n",
        "                new_state[x], new_state[x+3] = new_state[x+3], new_state[x]\n",
        "            elif action is 'L':\n",
        "                new_state[x], new_state[x-1] = new_state[x-1], new_state[x]\n",
        "            elif action is 'R':\n",
        "                new_state[x], new_state[x+1] = new_state[x+1], new_state[x]\n",
        "            children.append(Puzzle(new_state,self,action,1,self.needs_hueristic))\n",
        "        return children\n",
        "\n",
        "    def find_solution(self):\n",
        "        solution = []\n",
        "        solution.append(self.action)\n",
        "        path = self\n",
        "        while path.parent != None:\n",
        "            path = path.parent\n",
        "            solution.append(path.action)\n",
        "        solution = solution[:-1]\n",
        "        solution.reverse()\n",
        "        return solution"
      ]
    },
    {
      "cell_type": "markdown",
      "source": [
        "# RBFS"
      ],
      "metadata": {
        "id": "Txxywy5izdK4"
      }
    },
    {
      "cell_type": "code",
      "source": [
        "from sys import maxsize\n",
        "def recursive_best_first_search(initial_state):\n",
        "    node=RBFS_search(Puzzle(state=initial_state, parent=None, action=None, path_cost=0, needs_hueristic=True), f_limit=maxsize)\n",
        "    node=node[0]\n",
        "    return node.find_solution()\n",
        "\n",
        "def RBFS_search(node,f_limit):\n",
        "    successors=[]\n",
        "\n",
        "    if node.goal_test():\n",
        "        return node,None\n",
        "    children=node.generate_child()\n",
        "    if not len(children):\n",
        "        return None, maxsize\n",
        "    count=-1\n",
        "    for child in children:\n",
        "        count+=1\n",
        "        successors.append((child.evaluation_function,count,child))\n",
        "    while len(successors):\n",
        "        successors.sort()\n",
        "        best_node=successors[0][2]\n",
        "        if best_node.evaluation_function > f_limit:\n",
        "            return None, best_node.evaluation_function\n",
        "        alternative=successors[1][0]\n",
        "        result,best_node.evaluation_function=RBFS_search(best_node,min(f_limit,alternative))\n",
        "        successors[0]=(best_node.evaluation_function,successors[0][1],best_node)\n",
        "        if result!=None:\n",
        "            break\n",
        "    return result,None"
      ],
      "metadata": {
        "id": "AORSgllxy4DK"
      },
      "execution_count": 5,
      "outputs": []
    },
    {
      "cell_type": "markdown",
      "source": [
        "#A*"
      ],
      "metadata": {
        "id": "RSvwPDFszfnk"
      }
    },
    {
      "cell_type": "code",
      "source": [
        "from queue import PriorityQueue\n",
        "def Astar_search(initial_state):\n",
        "    count=0\n",
        "    explored=[]\n",
        "    start_node=Puzzle(initial_state,None,None,0,True)\n",
        "    q = PriorityQueue()\n",
        "    q.put((start_node.evaluation_function,count,start_node))\n",
        "\n",
        "    while not q.empty():\n",
        "        node=q.get()\n",
        "        node=node[2]\n",
        "        explored.append(node.state)\n",
        "        if node.goal_test():\n",
        "            return node.find_solution()\n",
        "\n",
        "        children=node.generate_child()\n",
        "        for child in children:\n",
        "            if child.state not in explored:\n",
        "                count += 1\n",
        "                q.put((child.evaluation_function,count,child))\n",
        "    return"
      ],
      "metadata": {
        "id": "Zmjwo11SzHRk"
      },
      "execution_count": 6,
      "outputs": []
    },
    {
      "cell_type": "markdown",
      "source": [
        "#Main"
      ],
      "metadata": {
        "id": "VzEvoEWozis0"
      }
    },
    {
      "cell_type": "code",
      "source": [
        "state=[[1, 3, 4,\n",
        "        8, 6, 2,\n",
        "        7, 0, 5],\n",
        "\n",
        "       [2, 8, 1,\n",
        "        0, 4, 3,\n",
        "        7, 6, 5],\n",
        "\n",
        "       [2, 8, 1,\n",
        "        4, 6, 3,\n",
        "        0, 7, 5]]\n",
        "\n",
        "for i in range(0,3):\n",
        "    astar = Astar_search(state[i])\n",
        "    print('A*:',astar)\n",
        "    print()\n",
        "    RBFS = recursive_best_first_search(state[i])\n",
        "    print('RBFS:',RBFS)\n",
        "    print()"
      ],
      "metadata": {
        "colab": {
          "base_uri": "https://localhost:8080/"
        },
        "id": "5D3z2uUezLLz",
        "outputId": "39bbe5e7-7af3-4b93-b4a4-07cbf1d8383e"
      },
      "execution_count": 8,
      "outputs": [
        {
          "output_type": "stream",
          "name": "stdout",
          "text": [
            "A*: ['U', 'R', 'U', 'L', 'D']\n",
            "\n",
            "RBFS: ['U', 'R', 'U', 'L', 'D']\n",
            "\n",
            "A*: ['U', 'R', 'R', 'D', 'L', 'L', 'U', 'R', 'D']\n",
            "\n",
            "RBFS: ['U', 'R', 'R', 'D', 'L', 'L', 'U', 'R', 'D']\n",
            "\n",
            "A*: ['R', 'U', 'L', 'U', 'R', 'R', 'D', 'L', 'L', 'U', 'R', 'D']\n",
            "\n",
            "RBFS: ['R', 'U', 'L', 'U', 'R', 'R', 'D', 'L', 'L', 'U', 'R', 'D']\n",
            "\n"
          ]
        }
      ]
    },
    {
      "cell_type": "code",
      "source": [],
      "metadata": {
        "id": "m0rz6ioEzlKB"
      },
      "execution_count": null,
      "outputs": []
    }
  ]
}